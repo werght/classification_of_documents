{
 "cells": [
  {
   "cell_type": "markdown",
   "metadata": {},
   "source": [
    "# Задание 3. Линейная регрессия"
   ]
  },
  {
   "cell_type": "markdown",
   "metadata": {},
   "source": [
    "Данные содержатся в файле `data/lin_reg.txt`. Прочитать их можно следующим так:"
   ]
  },
  {
   "cell_type": "code",
   "execution_count": 1,
   "metadata": {},
   "outputs": [],
   "source": [
    "import numpy as np\n",
    "import matplotlib.pyplot as plt\n",
    "D = np.loadtxt('lin_reg.txt', delimiter=',')\n",
    "X = D[:, :-1]\n",
    "Y = D[:, -1]"
   ]
  },
  {
   "cell_type": "markdown",
   "metadata": {},
   "source": [
    "При выполнении заданий **нельзя** пользоваться `scikit-learn` и т.п., только `NumPy`/`JAX`/`TF`/`PyTorch` и `matplotlib`/`seaborn`/`plotly`/etc.\n",
    "\n",
    "1. Нарисуйте график среднеквадратичной ошибки в зависимости от параметра регуляризации $\\alpha$, используя полные данные для обучения и для тестирования. \n",
    "2. Подготовьте исходные данные для 5 fold CV.\n",
    "3. С помощью CV найдите оптимальное значение $\\alpha$ на какой-нибудь сетке значений.\n",
    "4. Постройте валидационную кривую. \n",
    "5. Постройте кривую обучения."
   ]
  },
  {
   "cell_type": "code",
   "execution_count": 2,
   "metadata": {},
   "outputs": [],
   "source": [
    "import math\n",
    "import numpy as np\n",
    "\n",
    "class LinearModel(object):\n",
    "    def __init__(self, learning_rate, batch_size, alpha=0.0, n_epochs = 100):\n",
    "        self._w = None\n",
    "        self._n_epochs = n_epochs\n",
    "        self._learning_rate = learning_rate\n",
    "        self._batch_size = batch_size\n",
    "        self._alpha = alpha\n",
    "        self.history = []\n",
    "            \n",
    "    def gradient(self, X, y):\n",
    "        raise NotImplementedError\n",
    "        \n",
    "    def predict(self, X):\n",
    "        raise NotImplementedError        \n",
    "            \n",
    "    def fit(self, X, y):\n",
    "        X_ = X.copy()\n",
    "        X = np.hstack((np.ones((X.shape[0], 1)), X)) \n",
    "        self._w = np.random.randn(X.shape[1], 1)\n",
    "        batch_size = self._batch_size if self._batch_size is not None else X.shape[0]\n",
    "        \n",
    "        for i in range(self._n_epochs):\n",
    "            for j in range(int(X.shape[0] / batch_size)):\n",
    "                learning_rate = self._learning_rate if isinstance(self._learning_rate, float) \\\n",
    "                                else self._learning_rate(i * (X.shape[0] / batch_size) + j)\n",
    "                sample = np.random.choice(X.shape[0], batch_size, replace=False)\n",
    "                self._w -= learning_rate * self.gradient(X[sample,:], y[sample])\n",
    "            self.history.append(mse(self.predict(X_), y))\n",
    "\n",
    "\n",
    "                \n",
    "class LinearRegression(LinearModel):\n",
    "    def gradient(self, X, y):\n",
    "        gradient = np.zeros((X.shape[1], 1))\n",
    "        for xi, yi in zip(X, y):\n",
    "            gradient += np.reshape((np.dot(np.transpose(self._w), xi) - yi) * xi, (X.shape[1], 1))\n",
    "        return gradient * (2.0 / X.shape[0])\n",
    "\n",
    "    def predict(self, X):\n",
    "        X = np.hstack((np.ones((X.shape[0], 1)), X))\n",
    "        return np.dot(np.transpose(self._w), np.transpose(X)).flatten()\n",
    "\n",
    "class RidgeRegression(LinearModel):\n",
    "    def gradient(self, X, y):\n",
    "        gradient = np.zeros((X.shape[1], 1))\n",
    "        for xi, yi in zip(X, y):\n",
    "            gradient += np.reshape((np.dot(np.transpose(self._w), xi) - yi) * xi, (X.shape[1], 1))\n",
    "        gradient *= (2.0 / X.shape[0])\n",
    "        return gradient + 2.0 * self._alpha * self._w\n",
    "    \n",
    "    def predict(self, X):\n",
    "        X = np.hstack((np.ones((X.shape[0], 1)), X))\n",
    "        return np.dot(np.transpose(self._w), np.transpose(X)).flatten()"
   ]
  },
  {
   "cell_type": "code",
   "execution_count": 3,
   "metadata": {},
   "outputs": [],
   "source": [
    "def mse(y_true, y_pred):\n",
    "    return ((y_pred - y_true)**2).mean()"
   ]
  },
  {
   "cell_type": "code",
   "execution_count": 4,
   "metadata": {},
   "outputs": [],
   "source": [
    "linreg = LinearRegression(n_epochs=50, learning_rate=0.0001, batch_size=1)"
   ]
  },
  {
   "cell_type": "code",
   "execution_count": 5,
   "metadata": {},
   "outputs": [],
   "source": [
    "X_train, X_test = X[ : 800, :], X[800 : , :]\n",
    "y_train, y_test = Y[ : 800], Y[800 :]"
   ]
  },
  {
   "cell_type": "code",
   "execution_count": 6,
   "metadata": {},
   "outputs": [],
   "source": [
    "linreg.fit(X_train, y_train)"
   ]
  },
  {
   "cell_type": "code",
   "execution_count": 7,
   "metadata": {},
   "outputs": [],
   "source": [
    "linreg_predictions = linreg.predict(X_test)"
   ]
  },
  {
   "cell_type": "code",
   "execution_count": 8,
   "metadata": {},
   "outputs": [
    {
     "data": {
      "text/plain": [
       "100.75337657023671"
      ]
     },
     "execution_count": 8,
     "metadata": {},
     "output_type": "execute_result"
    }
   ],
   "source": [
    "mse(linreg_predictions, y_test)"
   ]
  },
  {
   "cell_type": "markdown",
   "metadata": {},
   "source": [
    "### Кривая обучения"
   ]
  },
  {
   "cell_type": "code",
   "execution_count": 9,
   "metadata": {},
   "outputs": [
    {
     "data": {
      "image/png": "[encoded data removed]",
      "text/plain": [
       "<Figure size 432x288 with 1 Axes>"
      ]
     },
     "metadata": {
      "needs_background": "light"
     },
     "output_type": "display_data"
    }
   ],
   "source": [
    "plt.plot(range(len(linreg.history)), linreg.history)\n",
    "plt.title('Train curve, MSE')\n",
    "plt.show()"
   ]
  },
  {
   "cell_type": "markdown",
   "metadata": {},
   "source": [
    "### График среднеквадратичной ошибки в зависимости от параметра регуляризации"
   ]
  },
  {
   "cell_type": "code",
   "execution_count": 11,
   "metadata": {},
   "outputs": [],
   "source": [
    "mse_list = []\n",
    "for alpha in range(10):\n",
    "    ridgereg = RidgeRegression(n_epochs=50, learning_rate=0.0001, batch_size=1, alpha=alpha)\n",
    "    ridgereg.fit(X_train, y_train)\n",
    "    mse_list.append(mse(ridgereg.predict(X_test), y_test))"
   ]
  },
  {
   "cell_type": "code",
   "execution_count": 12,
   "metadata": {},
   "outputs": [
    {
     "data": {
      "text/plain": [
       "[<matplotlib.lines.Line2D at 0x7fe28e31e2b0>]"
      ]
     },
     "execution_count": 12,
     "metadata": {},
     "output_type": "execute_result"
    },
    {
     "data": {
      "image/png": "[encoded data removed]",
      "text/plain": [
       "<Figure size 432x288 with 1 Axes>"
      ]
     },
     "metadata": {
      "needs_background": "light"
     },
     "output_type": "display_data"
    }
   ],
   "source": [
    "plt.plot([0, 1, 2, 3, 4, 5, 6, 7, 8, 9], mse_list)"
   ]
  },
  {
   "cell_type": "code",
   "execution_count": 20,
   "metadata": {
    "scrolled": true
   },
   "outputs": [
    {
     "name": "stderr",
     "output_type": "stream",
     "text": [
      "/var/folders/zj/3n_jg8g55b78my0mk2snjhk80000gn/T/ipykernel_7381/97228523.py:6: FutureWarning: arrays to stack must be passed as a \"sequence\" type such as list or tuple. Support for non-sequence iterables such as generators is deprecated as of NumPy 1.16 and will raise an error in the future.\n",
      "  X_train_cv = np.vstack((X[j::5, :] for j in range(5) if j != i))\n",
      "/var/folders/zj/3n_jg8g55b78my0mk2snjhk80000gn/T/ipykernel_7381/97228523.py:8: FutureWarning: arrays to stack must be passed as a \"sequence\" type such as list or tuple. Support for non-sequence iterables such as generators is deprecated as of NumPy 1.16 and will raise an error in the future.\n",
      "  y_train_cv = np.hstack((Y[j::5] for j in range(5) if j != i))\n"
     ]
    }
   ],
   "source": [
    "alpha = 0.1\n",
    "mse_val_list = []\n",
    "mse_train_list = []\n",
    "best = [10000, 0]\n",
    "for i in range(5):\n",
    "    X_train_cv = np.vstack((X[j::5, :] for j in range(5) if j != i))\n",
    "    X_val = X[i::5, :]\n",
    "    y_train_cv = np.hstack((Y[j::5] for j in range(5) if j != i))\n",
    "    y_val = Y[i::5]\n",
    "    \n",
    "    ridgereg = RidgeRegression(n_epochs=50, learning_rate=0.0001, batch_size=1, alpha=alpha)\n",
    "    ridgereg.fit(X_train, y_train)\n",
    "    y_pred = ridgereg.predict(X_val)\n",
    "    \n",
    "    mse_val_list.append(mse(y_val, y_pred))\n",
    "    mse_train_list.append(mse(y_train_cv, ridgereg.predict(X_train_cv)))\n",
    "    if mse(y_val, y_pred) < best[0]:\n",
    "        best[0] = mse(y_val, y_pred)\n",
    "        best[1] = alpha\n",
    "    alpha += 1\n"
   ]
  },
  {
   "cell_type": "markdown",
   "metadata": {},
   "source": [
    "### Валидационная кривая"
   ]
  },
  {
   "cell_type": "code",
   "execution_count": 21,
   "metadata": {
    "scrolled": false
   },
   "outputs": [
    {
     "data": {
      "image/png": "[encoded data removed]",
      "text/plain": [
       "<Figure size 432x288 with 1 Axes>"
      ]
     },
     "metadata": {
      "needs_background": "light"
     },
     "output_type": "display_data"
    }
   ],
   "source": [
    "plt.plot([0.1, 1.1, 2.1, 3.1, 4.1], mse_val_list)\n",
    "plt.plot([0.1, 1.1, 2.1, 3.1, 4.1], mse_train_list)\n",
    "plt.show()"
   ]
  },
  {
   "cell_type": "markdown",
   "metadata": {},
   "source": [
    "### Оптимальное значение alpha"
   ]
  },
  {
   "cell_type": "code",
   "execution_count": 24,
   "metadata": {},
   "outputs": [
    {
     "name": "stdout",
     "output_type": "stream",
     "text": [
      "Оптитмальное значение alpha = 4.1\n"
     ]
    }
   ],
   "source": [
    "print(f'Оптитмальное значение alpha = {best[1]}')"
   ]
  },
  {
   "cell_type": "code",
   "execution_count": 25,
   "metadata": {},
   "outputs": [
    {
     "name": "stdout",
     "output_type": "stream",
     "text": [
      "При оптитмальноем значении alpha mse = 96.30580294627623\n"
     ]
    }
   ],
   "source": [
    "print(f'При оптитмальноем значении alpha mse = {best[0]}')"
   ]
  },
  {
   "cell_type": "code",
   "execution_count": null,
   "metadata": {},
   "outputs": [],
   "source": []
  }
 ],
 "metadata": {
  "kernelspec": {
   "display_name": "Python 3 (ipykernel)",
   "language": "python",
   "name": "python3"
  },
  "language_info": {
   "codemirror_mode": {
    "name": "ipython",
    "version": 3
   },
   "file_extension": ".py",
   "mimetype": "text/x-python",
   "name": "python",
   "nbconvert_exporter": "python",
   "pygments_lexer": "ipython3",
   "version": "3.9.12"
  },
  "vscode": {
   "interpreter": {
    "hash": "916dbcbb3f70747c44a77c7bcd40155683ae19c65e1c03b4aa3499c5328201f1"
   }
  }
 },
 "nbformat": 4,
 "nbformat_minor": 4
}
