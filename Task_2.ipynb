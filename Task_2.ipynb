{
  "cells": [
    {
      "cell_type": "code",
      "execution_count": 1,
      "metadata": {
        "id": "QT17K-rRHCzH"
      },
      "outputs": [],
      "source": [
        "import numpy as np\n",
        "import scipy as sp\n",
        "import matplotlib.pyplot as plt\n",
        "import seaborn as sns\n",
        "\n",
        "%matplotlib inline"
      ]
    },
    {
      "cell_type": "markdown",
      "metadata": {
        "id": "0FQvHP9tHCzJ"
      },
      "source": [
        "# 2. Работа с массивами NumPy"
      ]
    },
    {
      "cell_type": "markdown",
      "metadata": {
        "id": "WJNo_cMEHCzK"
      },
      "source": [
        "**N. Все упражнения ниже нужно делать без использования циклов Python**\n",
        "\n",
        "**2.1.** Cоздать вектор\n",
        "\n",
        "$$(2, \\frac{2^2}{2}, \\ldots, \\frac{2^{20}}{20})$$\n",
        "\n",
        "Можно использовать функции [np.arange()](http://docs.scipy.org/doc/numpy/reference/generated/numpy.arange.html), [np.ones()](http://docs.scipy.org/doc/numpy/reference/generated/numpy.ones.html)"
      ]
    },
    {
      "cell_type": "code",
      "execution_count": 2,
      "metadata": {
        "id": "KYgHHPdwHCzK"
      },
      "outputs": [],
      "source": [
        "## your code\n",
        "numbers = np.arange(1, 21)\n",
        "result = (2 ** numbers) / numbers"
      ]
    },
    {
      "cell_type": "code",
      "source": [
        "result"
      ],
      "metadata": {
        "colab": {
          "base_uri": "https://localhost:8080/"
        },
        "id": "Flg_j1JIH6qF",
        "outputId": "0217ea52-5a38-4b7c-9509-9e2ab7a38978"
      },
      "execution_count": 3,
      "outputs": [
        {
          "output_type": "execute_result",
          "data": {
            "text/plain": [
              "array([2.00000000e+00, 2.00000000e+00, 2.66666667e+00, 4.00000000e+00,\n",
              "       6.40000000e+00, 1.06666667e+01, 1.82857143e+01, 3.20000000e+01,\n",
              "       5.68888889e+01, 1.02400000e+02, 1.86181818e+02, 3.41333333e+02,\n",
              "       6.30153846e+02, 1.17028571e+03, 2.18453333e+03, 4.09600000e+03,\n",
              "       7.71011765e+03, 1.45635556e+04, 2.75941053e+04, 5.24288000e+04])"
            ]
          },
          "metadata": {},
          "execution_count": 3
        }
      ]
    },
    {
      "cell_type": "markdown",
      "metadata": {
        "id": "idFxAuEHHCzL"
      },
      "source": [
        "**2.2.** Посчитать:\n",
        "\n",
        "$$\\sum\\limits_{i=0}^{5}{0.1^{3i}0.2^{4i}}$$\n"
      ]
    },
    {
      "cell_type": "code",
      "execution_count": 4,
      "metadata": {
        "id": "G0VPiYNwHCzL"
      },
      "outputs": [],
      "source": [
        "## your code\n",
        "i = np.arange(0, 6)\n",
        "result_2 = (0.1 ** (3 * i) * 0.2 ** (4 * i)).sum()"
      ]
    },
    {
      "cell_type": "code",
      "source": [
        "result_2"
      ],
      "metadata": {
        "colab": {
          "base_uri": "https://localhost:8080/"
        },
        "id": "xAvSSg5xd78B",
        "outputId": "1a4e9c93-39e5-4f12-9d7b-7957b636941d"
      },
      "execution_count": 5,
      "outputs": [
        {
          "output_type": "execute_result",
          "data": {
            "text/plain": [
              "1.00000160000256"
            ]
          },
          "metadata": {},
          "execution_count": 5
        }
      ]
    },
    {
      "cell_type": "markdown",
      "metadata": {
        "id": "zSeGIdZIHCzM"
      },
      "source": [
        "**2.3.** Создать нулевую матрицe $8 \\times 8$, и заполнить её единицами в шахматном порядке."
      ]
    },
    {
      "cell_type": "code",
      "execution_count": 6,
      "metadata": {
        "id": "Df8sEYVOHCzM"
      },
      "outputs": [],
      "source": [
        "## your code\n",
        "mtr = np.zeros((8, 8))\n",
        "mtr[::2,  ::2], mtr[1::2, 1::2] = 1, 1"
      ]
    },
    {
      "cell_type": "code",
      "source": [
        "mtr"
      ],
      "metadata": {
        "colab": {
          "base_uri": "https://localhost:8080/"
        },
        "id": "bC2kE-a9e37Y",
        "outputId": "a7b9142f-e05a-41f1-b2b5-6d6051db0ed7"
      },
      "execution_count": 7,
      "outputs": [
        {
          "output_type": "execute_result",
          "data": {
            "text/plain": [
              "array([[1., 0., 1., 0., 1., 0., 1., 0.],\n",
              "       [0., 1., 0., 1., 0., 1., 0., 1.],\n",
              "       [1., 0., 1., 0., 1., 0., 1., 0.],\n",
              "       [0., 1., 0., 1., 0., 1., 0., 1.],\n",
              "       [1., 0., 1., 0., 1., 0., 1., 0.],\n",
              "       [0., 1., 0., 1., 0., 1., 0., 1.],\n",
              "       [1., 0., 1., 0., 1., 0., 1., 0.],\n",
              "       [0., 1., 0., 1., 0., 1., 0., 1.]])"
            ]
          },
          "metadata": {},
          "execution_count": 7
        }
      ]
    },
    {
      "cell_type": "markdown",
      "metadata": {
        "id": "EZTEpnkEHCzN"
      },
      "source": [
        "**2.4.** Есть 5 точек в декартовой системе координат (в виде матрицы $X$ размерностью $5 \\times 2$), сконвертируйте эти точки в полярную систему координат."
      ]
    },
    {
      "cell_type": "code",
      "source": [
        "X = np.random.random((5, 2))"
      ],
      "metadata": {
        "id": "6O-VDnBFg7Di"
      },
      "execution_count": 8,
      "outputs": []
    },
    {
      "cell_type": "code",
      "source": [
        "x = X[:, 0]\n",
        "y = X[:, 1]\n",
        "\n",
        "radius = (x ** 2 + y ** 2) ** (1 / 2)\n",
        "phi = np.arccos(x / radius)\n",
        "\n",
        "polar_coordinate = ((radius, phi))"
      ],
      "metadata": {
        "id": "DcJEOUfzhdTE"
      },
      "execution_count": 9,
      "outputs": []
    },
    {
      "cell_type": "code",
      "source": [
        "polar_coordinate"
      ],
      "metadata": {
        "colab": {
          "base_uri": "https://localhost:8080/"
        },
        "id": "31cGOtK5imNA",
        "outputId": "62f8169d-6635-4280-f489-490d13213c32"
      },
      "execution_count": 10,
      "outputs": [
        {
          "output_type": "execute_result",
          "data": {
            "text/plain": [
              "(array([1.15781989, 0.67507332, 0.55468314, 0.66966232, 0.60579771]),\n",
              " array([0.8507456 , 0.51721113, 1.15811533, 1.20949766, 0.28835236]))"
            ]
          },
          "metadata": {},
          "execution_count": 10
        }
      ]
    },
    {
      "cell_type": "markdown",
      "metadata": {
        "id": "PHWkFyjoHCzN"
      },
      "source": [
        "**2.5.** Найдите индексы максимального элемента в случайной матрице $10 \\times 10$.\n",
        "\n",
        "Cм. [np.argmax()](http://docs.scipy.org/doc/numpy/reference/generated/numpy.argmax.html)."
      ]
    },
    {
      "cell_type": "code",
      "execution_count": 11,
      "metadata": {
        "id": "7-7SUUcWHCzO"
      },
      "outputs": [],
      "source": [
        "X = np.random.random((10, 10))\n",
        "ind_max = np.unravel_index(np.argmax(X), X.shape)\n",
        "## your code"
      ]
    },
    {
      "cell_type": "code",
      "source": [
        "ind_max"
      ],
      "metadata": {
        "colab": {
          "base_uri": "https://localhost:8080/"
        },
        "id": "E9a_X8dDlmhc",
        "outputId": "a37a6569-5cd6-423a-f50b-3cea30196e42"
      },
      "execution_count": 12,
      "outputs": [
        {
          "output_type": "execute_result",
          "data": {
            "text/plain": [
              "(9, 9)"
            ]
          },
          "metadata": {},
          "execution_count": 12
        }
      ]
    },
    {
      "cell_type": "markdown",
      "metadata": {
        "id": "P4W0BUZkHCzO"
      },
      "source": [
        "**2.6.** Есть 10 точек ($X$) и ещё одна ($y$). Найти в $X$ ближайшую к $y$ точку."
      ]
    },
    {
      "cell_type": "code",
      "execution_count": 13,
      "metadata": {
        "id": "p_roLKpOHCzP"
      },
      "outputs": [],
      "source": [
        "X = np.random.random((10, 2))\n",
        "y = np.random.random((1, 2))\n",
        "\n",
        "diff_x_y = X - y\n",
        "first_coor = diff_x_y[:, 0].copy()\n",
        "second_coor = diff_x_y[:, 1].copy()\n",
        "sqrt_diff = (first_coor ** 2 + second_coor ** 2) ** (1 / 2)\n",
        "near_point = np.argmin(sqrt_diff)"
      ]
    },
    {
      "cell_type": "code",
      "source": [
        "X[near_point]"
      ],
      "metadata": {
        "colab": {
          "base_uri": "https://localhost:8080/"
        },
        "id": "7cDHdm7FpPK_",
        "outputId": "46bc9ad7-94d8-48e7-9182-4342b739cb9f"
      },
      "execution_count": 14,
      "outputs": [
        {
          "output_type": "execute_result",
          "data": {
            "text/plain": [
              "array([0.76487448, 0.4622207 ])"
            ]
          },
          "metadata": {},
          "execution_count": 14
        }
      ]
    },
    {
      "cell_type": "markdown",
      "metadata": {
        "id": "Ulv-F8u2HCzP"
      },
      "source": [
        "**2.7.** Дана функция:\n",
        "\n",
        "$$\n",
        " \\begin{cases}\n",
        "    x^2 + 2x + 6, & x < 0  \\\\\n",
        "    x + 6, & 0 \\le x \\le 2 \\\\\n",
        "    x^2 + 4x - 4, & x \\ge 2\n",
        " \\end{cases}\n",
        "$$\n",
        "\n",
        "Постройте массив из её значений на  $-3 \\le x \\le 3$."
      ]
    },
    {
      "cell_type": "code",
      "execution_count": 15,
      "metadata": {
        "id": "yDXTvn_-HCzQ"
      },
      "outputs": [],
      "source": [
        "## your code\n",
        "def function(x):\n",
        "    if x < 0: \n",
        "        return x ** 2 + 2 * x + 6 \n",
        "    elif x >=2 and x <=0: \n",
        "        return x + 6 \n",
        "    else:\n",
        "        return x ** 2 + 4 * x - 4\n",
        "\n",
        "mass = np.arange(-3, 3.5, 0.5)\n",
        "res = list(map(function, mass))"
      ]
    },
    {
      "cell_type": "code",
      "source": [
        "res"
      ],
      "metadata": {
        "colab": {
          "base_uri": "https://localhost:8080/"
        },
        "id": "ZKr9AQJ6vWoM",
        "outputId": "0ec67681-0f1a-445b-f103-7b96cc24227d"
      },
      "execution_count": 16,
      "outputs": [
        {
          "output_type": "execute_result",
          "data": {
            "text/plain": [
              "[9.0, 7.25, 6.0, 5.25, 5.0, 5.25, -4.0, -1.75, 1.0, 4.25, 8.0, 12.25, 17.0]"
            ]
          },
          "metadata": {},
          "execution_count": 16
        }
      ]
    },
    {
      "cell_type": "markdown",
      "metadata": {
        "id": "zvi6obleHCzQ"
      },
      "source": [
        "**2.8.** Из каждого элемента матрицы вычесть среднее арифметическое от всех элементов в соответствующей строке (после чего среднее значение каждой строки должно равняться нулю).\n",
        "\n",
        "Cм. [np.mean()](http://docs.scipy.org/doc/numpy/reference/generated/numpy.mean.html)."
      ]
    },
    {
      "cell_type": "code",
      "execution_count": 17,
      "metadata": {
        "id": "FkXUuDs1HCzR"
      },
      "outputs": [],
      "source": [
        "## your code\n",
        "X = np.random.random((10, 10))\n",
        "X = X - X.mean(axis=1).reshape(10, 1)"
      ]
    },
    {
      "cell_type": "code",
      "source": [
        "X.mean(axis=1)"
      ],
      "metadata": {
        "colab": {
          "base_uri": "https://localhost:8080/"
        },
        "id": "GcmDKers1-Wc",
        "outputId": "8d38b872-24c7-47de-ce21-3a1d75c814db"
      },
      "execution_count": 18,
      "outputs": [
        {
          "output_type": "execute_result",
          "data": {
            "text/plain": [
              "array([ 3.33066907e-17, -3.88578059e-17, -7.77156117e-17,  2.22044605e-17,\n",
              "       -2.22044605e-17, -9.99200722e-17, -3.33066907e-17,  0.00000000e+00,\n",
              "        0.00000000e+00,  7.77156117e-17])"
            ]
          },
          "metadata": {},
          "execution_count": 18
        }
      ]
    },
    {
      "cell_type": "markdown",
      "metadata": {
        "id": "KXYRkRUbHCzR"
      },
      "source": [
        "**2.9.** Есть массив из 1000 чисел, полученных из генератора случайных чисел, имеющий нормальное распределение. Посчитайте выборочное среднее и выборочную дисперсию. "
      ]
    },
    {
      "cell_type": "code",
      "execution_count": 19,
      "metadata": {
        "id": "6vLuU8d6HCzR",
        "colab": {
          "base_uri": "https://localhost:8080/"
        },
        "outputId": "ed2be958-cc7f-46e2-a723-98c48fc8530f"
      },
      "outputs": [
        {
          "output_type": "stream",
          "name": "stdout",
          "text": [
            "4.96300112802985 4.231615219835557\n"
          ]
        }
      ],
      "source": [
        "X = np.random.normal(loc=5, scale=2., size=1000)\n",
        "print(X.mean(), X.var())"
      ]
    },
    {
      "cell_type": "markdown",
      "metadata": {
        "id": "S-sHCPUcHCzS"
      },
      "source": [
        "**2.10.** Создать матрицу (NB. БЕЗ ЦИКЛОВ И ИЗМЕНЕНИЯ ОТДЕЛЬНЫХ ЭЛЕМЕНТОВ):\n",
        "\n",
        "$$\n",
        "\\begin{pmatrix}\n",
        "0 & 1 & 2 & 3 & 4 \\\\\n",
        "1 & 2 & 3 & 4 & 0 \\\\\n",
        "2 & 3 & 4 & 0 & 1 \\\\\n",
        "3 & 4 & 0 & 1 & 2 \\\\\n",
        "4 & 0 & 1 & 2 & 3\n",
        "\\end{pmatrix}\n",
        "$$"
      ]
    },
    {
      "cell_type": "code",
      "execution_count": 20,
      "metadata": {
        "id": "FCOdO5F5HCzS"
      },
      "outputs": [],
      "source": [
        "## your code\n",
        "x = np.arange(5)\n",
        "res = (x + x.reshape(5, 1)) % 5"
      ]
    },
    {
      "cell_type": "code",
      "source": [
        "res"
      ],
      "metadata": {
        "colab": {
          "base_uri": "https://localhost:8080/"
        },
        "id": "ep_QBRZt4TIy",
        "outputId": "35e3ef9d-3f9b-4d33-aea4-a53a761fcf7d"
      },
      "execution_count": 21,
      "outputs": [
        {
          "output_type": "execute_result",
          "data": {
            "text/plain": [
              "array([[0, 1, 2, 3, 4],\n",
              "       [1, 2, 3, 4, 0],\n",
              "       [2, 3, 4, 0, 1],\n",
              "       [3, 4, 0, 1, 2],\n",
              "       [4, 0, 1, 2, 3]])"
            ]
          },
          "metadata": {},
          "execution_count": 21
        }
      ]
    },
    {
      "cell_type": "markdown",
      "metadata": {
        "id": "gMqBOIHNHCzS"
      },
      "source": [
        "**2.11.** Есть следующий алгоритм семплинирования, на вход функции подается вектор из целых положительных чисел и число семплов."
      ]
    },
    {
      "cell_type": "code",
      "execution_count": 22,
      "metadata": {
        "id": "s2WX_DM9HCzT",
        "outputId": "79d1b9d6-d59e-444b-d5bb-57ea7ec2268d",
        "colab": {
          "base_uri": "https://localhost:8080/"
        }
      },
      "outputs": [
        {
          "output_type": "stream",
          "name": "stdout",
          "text": [
            "0\n",
            "61\n",
            "0\n",
            "61\n",
            "54\n"
          ]
        },
        {
          "output_type": "execute_result",
          "data": {
            "text/plain": [
              "[0, 4, 0, 4, 3]"
            ]
          },
          "metadata": {},
          "execution_count": 22
        }
      ],
      "source": [
        "def sample(x, c):\n",
        "    assert len(x) > 0\n",
        "    \n",
        "    s = np.sum(x)\n",
        "    res = []\n",
        "    for _ in range(c):\n",
        "        val = s * np.random.random()\n",
        "        cur, idx = 0, 0        \n",
        "        while cur + x[idx] <= val:\n",
        "            cur += x[idx]\n",
        "            idx += 1\n",
        "        print(cur)\n",
        "        res.append(idx)\n",
        "    return res\n",
        "\n",
        "            \n",
        "sample([50, 3, 1, 7, 20], 5)    "
      ]
    },
    {
      "cell_type": "markdown",
      "metadata": {
        "id": "gI_80vFSHCzU"
      },
      "source": [
        "Реализуйте данный алгоритм более оптимальным способом, без использования циклов."
      ]
    },
    {
      "cell_type": "code",
      "execution_count": 23,
      "metadata": {
        "id": "TEqwgkzBHCzU"
      },
      "outputs": [],
      "source": [
        "## your code\n",
        "from itertools import accumulate\n",
        "def sample(x, c):\n",
        "    assert len(x) > 0\n",
        "\n",
        "    s = np.sum(x)\n",
        "    val = (s * np.random.random(c)).reshape(-1, 1)\n",
        "    cur_sum = list(accumulate(x))\n",
        "    result = np.sum((cur_sum <= val), axis=1)\n",
        "    return result"
      ]
    },
    {
      "cell_type": "code",
      "source": [
        "sample([50, 3, 1, 7, 20], 5) "
      ],
      "metadata": {
        "colab": {
          "base_uri": "https://localhost:8080/"
        },
        "id": "idaq4fKYCLWQ",
        "outputId": "adaa5d73-0b26-4557-db33-1b1244b2b45c"
      },
      "execution_count": 24,
      "outputs": [
        {
          "output_type": "execute_result",
          "data": {
            "text/plain": [
              "array([4, 4, 0, 0, 0])"
            ]
          },
          "metadata": {},
          "execution_count": 24
        }
      ]
    }
  ],
  "metadata": {
    "kernelspec": {
      "display_name": "Python 3.10.4 64-bit",
      "language": "python",
      "name": "python3"
    },
    "language_info": {
      "codemirror_mode": {
        "name": "ipython",
        "version": 3
      },
      "file_extension": ".py",
      "mimetype": "text/x-python",
      "name": "python",
      "nbconvert_exporter": "python",
      "pygments_lexer": "ipython3",
      "version": "3.10.4"
    },
    "vscode": {
      "interpreter": {
        "hash": "916dbcbb3f70747c44a77c7bcd40155683ae19c65e1c03b4aa3499c5328201f1"
      }
    },
    "colab": {
      "provenance": [],
      "collapsed_sections": []
    }
  },
  "nbformat": 4,
  "nbformat_minor": 0
}