{
 "cells": [
  {
   "cell_type": "markdown",
   "metadata": {},
   "source": [
    "# Задание 5. Извлечение данных "
   ]
  },
  {
   "cell_type": "markdown",
   "metadata": {},
   "source": [
    "## Задание 5.1\n",
    "\n",
    "Напишите скрипт, который скачивает  сообщения с Телеграм-канала https://t.me/Sputnik_results . Сохраните сообщения в формате по вашему выбору (.csv, .jsonl, sqlite, parquet, и т.д.). Откройте с помощью Pandas или аналогичных библиотек, постройте график числа сообщений в зависимости от даты. "
   ]
  },
  {
   "cell_type": "markdown",
   "metadata": {},
   "source": [
    "## Задание 5.2\n",
    "1.Напишите функции для извлечения данных из сообщений:\n",
    "   - пол участника\n",
    "   - возраст участника\n",
    "\n",
    "   Постройте диаграммы для визуализации. \n",
    "\n",
    "2.Реализуйте какой-либо анализ этих данных на ваше усмотрение. Например их можно кластеризовать и интерпретировать кластеры, или попробовать выделить статистику по среднему количеству антител в зависимости от возраста, или посчитать количество заболевших после вакцинации. Обязательна визуализация. "
   ]
  },
  {
   "cell_type": "code",
   "execution_count": 3,
   "metadata": {
    "scrolled": false
   },
   "outputs": [],
   "source": [
    "import configparser\n",
    "import json\n",
    "import asyncio\n",
    "from datetime import date, datetime\n",
    "import seaborn as sns\n",
    "import re\n",
    "import pandas as pd\n",
    "import warnings\n",
    "import matplotlib.pyplot as plt\n",
    "from sklearn.cluster import DBSCAN\n",
    "import numpy as np\n",
    "import matplotlib.colors as mcolors"
   ]
  },
  {
   "cell_type": "code",
   "execution_count": null,
   "metadata": {},
   "outputs": [],
   "source": [
    "from telethon import TelegramClient\n",
    "from telethon.errors import SessionPasswordNeededError\n",
    "from telethon.tl.functions.messages import (GetHistoryRequest)\n",
    "from telethon.tl.types import (PeerChannel)"
   ]
  },
  {
   "cell_type": "code",
   "execution_count": null,
   "metadata": {},
   "outputs": [],
   "source": [
    "import configparser\n",
    "import json\n",
    "\n",
    "from telethon.sync import TelegramClient\n",
    "from datetime import datetime\n",
    "from telethon.tl.functions.messages import GetHistoryRequest\n",
    "\n",
    "class DateTimeEncoder(json.JSONEncoder):\n",
    "\n",
    "    def default(self, o):\n",
    "        if isinstance(o, datetime):\n",
    "            return o.isoformat()\n",
    "        if isinstance(o, bytes):\n",
    "            return list(o)\n",
    "        return json.JSONEncoder.default(self, o)\n",
    "    \n",
    "    \n",
    "async def parseMessages(channel):\n",
    "    offset_msg = 0\n",
    "    limit_msg = 100\n",
    "\n",
    "    all_messages = []\n",
    "    total_messages = 0\n",
    "    total_count_limit = 0\n",
    "\n",
    "\n",
    "    while True:\n",
    "        history = await client(GetHistoryRequest(\n",
    "            peer=channel,\n",
    "            offset_id=offset_msg,\n",
    "            offset_date=None, add_offset=0,\n",
    "            limit=limit_msg, max_id=0, min_id=0,\n",
    "            hash=0))\n",
    "        if not history.messages:\n",
    "            break\n",
    "        messages = history.messages\n",
    "        for message in messages:\n",
    "            all_messages.append(message.to_dict())\n",
    "        offset_msg = messages[len(messages) - 1].id\n",
    "        total_messages = len(all_messages)\n",
    "        if total_count_limit != 0 and total_messages >= total_count_limit:\n",
    "            break\n",
    "\n",
    "    with open('tg.json', 'w', encoding='utf8') as outfile:\n",
    "        json.dump(all_messages, outfile, ensure_ascii=False, cls=DateTimeEncoder)\n",
    "\n",
    "#api_id = \n",
    "#api_hash = \n",
    "#username = \n",
    "\n",
    "client = TelegramClient(username, api_id, api_hash)\n",
    "\n",
    "client.start()\n",
    "\n",
    "\n",
    "async def main():\n",
    "    url = \"https://t.me/Sputnik_results\"\n",
    "    channel = await client.get_entity(url)\n",
    "    await parseMessages(channel)\n",
    "\n",
    "\n",
    "with client:\n",
    "    client.loop.run_until_complete(main())"
   ]
  },
  {
   "cell_type": "code",
   "execution_count": 4,
   "metadata": {},
   "outputs": [],
   "source": [
    "df = pd.read_json('tg.json')\n",
    "df = df[['date', 'message']]\n",
    "df.date = df.date.dt.date\n",
    "df_date = df.groupby('date', as_index=False).aggregate({'message':\"count\"})"
   ]
  },
  {
   "cell_type": "code",
   "execution_count": 5,
   "metadata": {
    "scrolled": true
   },
   "outputs": [
    {
     "data": {
      "text/plain": [
       "[<matplotlib.lines.Line2D at 0x7fa23736ceb0>]"
      ]
     },
     "execution_count": 5,
     "metadata": {},
     "output_type": "execute_result"
    },
    {
     "data": {
      "image/png": "[encoded data removed]",
      "text/plain": [
       "<Figure size 432x288 with 1 Axes>"
      ]
     },
     "metadata": {
      "needs_background": "light"
     },
     "output_type": "display_data"
    }
   ],
   "source": [
    "plt.plot(df_date.date, df_date.message)"
   ]
  },
  {
   "cell_type": "code",
   "execution_count": 7,
   "metadata": {
    "scrolled": false
   },
   "outputs": [],
   "source": [
    "df[['gender','age']] = df.message.str.extract(r'(мужчина|женщина|[МЖмж])[^a-zа-я0-9]*(\\d+)', flags=re.IGNORECASE)\n",
    "df = df[~df.gender.isnull() & ~df.age.isnull()]\n",
    "df.gender = df.gender.str.lower()\n",
    "df.gender = df.gender.str[0]"
   ]
  },
  {
   "cell_type": "code",
   "execution_count": 8,
   "metadata": {},
   "outputs": [
    {
     "data": {
      "text/html": [
       "<div>\n",
       "<style scoped>\n",
       "    .dataframe tbody tr th:only-of-type {\n",
       "        vertical-align: middle;\n",
       "    }\n",
       "\n",
       "    .dataframe tbody tr th {\n",
       "        vertical-align: top;\n",
       "    }\n",
       "\n",
       "    .dataframe thead th {\n",
       "        text-align: right;\n",
       "    }\n",
       "</style>\n",
       "<table border=\"1\" class=\"dataframe\">\n",
       "  <thead>\n",
       "    <tr style=\"text-align: right;\">\n",
       "      <th></th>\n",
       "      <th>gender</th>\n",
       "      <th>message</th>\n",
       "    </tr>\n",
       "  </thead>\n",
       "  <tbody>\n",
       "    <tr>\n",
       "      <th>0</th>\n",
       "      <td>ж</td>\n",
       "      <td>9893</td>\n",
       "    </tr>\n",
       "    <tr>\n",
       "      <th>1</th>\n",
       "      <td>м</td>\n",
       "      <td>6387</td>\n",
       "    </tr>\n",
       "  </tbody>\n",
       "</table>\n",
       "</div>"
      ],
      "text/plain": [
       "  gender  message\n",
       "0      ж     9893\n",
       "1      м     6387"
      ]
     },
     "execution_count": 8,
     "metadata": {},
     "output_type": "execute_result"
    }
   ],
   "source": [
    "df_m_f = df.groupby('gender', as_index=False).aggregate({'message':'count'})\n",
    "df_m_f"
   ]
  },
  {
   "cell_type": "code",
   "execution_count": 10,
   "metadata": {},
   "outputs": [
    {
     "name": "stderr",
     "output_type": "stream",
     "text": [
      "/Users/angelinasharova/anaconda3/lib/python3.9/site-packages/seaborn/_decorators.py:36: FutureWarning: Pass the following variables as keyword args: x, y. From version 0.12, the only valid positional argument will be `data`, and passing other arguments without an explicit keyword will result in an error or misinterpretation.\n",
      "  warnings.warn(\n"
     ]
    },
    {
     "data": {
      "text/plain": [
       "<AxesSubplot:xlabel='gender', ylabel='message'>"
      ]
     },
     "execution_count": 10,
     "metadata": {},
     "output_type": "execute_result"
    },
    {
     "data": {
      "image/png": "[encoded data removed]",
      "text/plain": [
       "<Figure size 432x288 with 1 Axes>"
      ]
     },
     "metadata": {
      "needs_background": "light"
     },
     "output_type": "display_data"
    }
   ],
   "source": [
    "sns.barplot(df_m_f.gender, df_m_f.message)"
   ]
  },
  {
   "cell_type": "code",
   "execution_count": 11,
   "metadata": {
    "scrolled": true
   },
   "outputs": [
    {
     "name": "stderr",
     "output_type": "stream",
     "text": [
      "/var/folders/zj/3n_jg8g55b78my0mk2snjhk80000gn/T/ipykernel_3362/1720356472.py:5: FutureWarning: The default value of regex will change from True to False in a future version.\n",
      "  df['BAU'] = df['BAU'].str.replace('.[0123456789][.]', '')\n",
      "/var/folders/zj/3n_jg8g55b78my0mk2snjhk80000gn/T/ipykernel_3362/1720356472.py:6: FutureWarning: The default value of regex will change from True to False in a future version.\n",
      "  df['BAU'] = df['BAU'].str.replace('(\\D)', '')\n"
     ]
    }
   ],
   "source": [
    "df = df[df['message'].str.contains('bau|BAU|Bau')]\n",
    "df['BAU'] = df['message'].str.extract('(...[0123456789.,][0123456789][0123456789].BAU)', flags=re.IGNORECASE, expand=False).str.upper()\n",
    "df['BAU'] = df['BAU'].str.replace(' bau', '')\n",
    "df['BAU'] = df['BAU'].str.replace(',', '.')\n",
    "df['BAU'] = df['BAU'].str.replace('.[0123456789][.]', '')\n",
    "df['BAU'] = df['BAU'].str.replace('(\\D)', '')\n",
    "df = df[df['BAU'].str.len() < 5]\n",
    "df['BAU'] = pd.to_numeric(df['BAU'], errors='ignore')\n",
    "\n"
   ]
  },
  {
   "cell_type": "code",
   "execution_count": 12,
   "metadata": {},
   "outputs": [],
   "source": [
    "dbsc = DBSCAN(eps=0.3, min_samples=10).fit(df[['age', 'BAU']])"
   ]
  },
  {
   "cell_type": "code",
   "execution_count": 13,
   "metadata": {},
   "outputs": [],
   "source": [
    "X = df[['age', 'BAU']]"
   ]
  },
  {
   "cell_type": "code",
   "execution_count": 14,
   "metadata": {},
   "outputs": [],
   "source": [
    "labels = dbsc.labels_"
   ]
  },
  {
   "cell_type": "code",
   "execution_count": 15,
   "metadata": {},
   "outputs": [
    {
     "name": "stdout",
     "output_type": "stream",
     "text": [
      "Estimated no. of clusters: 1\n",
      "Estimated no. of noise points: 407\n"
     ]
    }
   ],
   "source": [
    "no_clusters = len(np.unique(labels) )\n",
    "no_noise = np.sum(np.array(labels) == -1, axis=0)\n",
    "\n",
    "print('Estimated no. of clusters: %d' % no_clusters)\n",
    "print('Estimated no. of noise points: %d' % no_noise)"
   ]
  },
  {
   "cell_type": "code",
   "execution_count": 16,
   "metadata": {
    "scrolled": false
   },
   "outputs": [
    {
     "data": {
      "text/plain": [
       "<BarContainer object of 407 artists>"
      ]
     },
     "execution_count": 16,
     "metadata": {},
     "output_type": "execute_result"
    },
    {
     "data": {
      "image/png": "[encoded data removed]",
      "text/plain": [
       "<Figure size 432x288 with 1 Axes>"
      ]
     },
     "metadata": {
      "needs_background": "light"
     },
     "output_type": "display_data"
    }
   ],
   "source": [
    "plt.bar(df.age, df.BAU)"
   ]
  },
  {
   "cell_type": "code",
   "execution_count": null,
   "metadata": {},
   "outputs": [],
   "source": []
  }
 ],
 "metadata": {
  "kernelspec": {
   "display_name": "Python 3 (ipykernel)",
   "language": "python",
   "name": "python3"
  },
  "language_info": {
   "codemirror_mode": {
    "name": "ipython",
    "version": 3
   },
   "file_extension": ".py",
   "mimetype": "text/x-python",
   "name": "python",
   "nbconvert_exporter": "python",
   "pygments_lexer": "ipython3",
   "version": "3.9.12"
  },
  "vscode": {
   "interpreter": {
    "hash": "916dbcbb3f70747c44a77c7bcd40155683ae19c65e1c03b4aa3499c5328201f1"
   }
  }
 },
 "nbformat": 4,
 "nbformat_minor": 4
}
